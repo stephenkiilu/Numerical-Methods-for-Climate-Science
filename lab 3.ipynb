{
 "cells": [
  {
   "cell_type": "code",
   "execution_count": 1,
   "metadata": {},
   "outputs": [],
   "source": [
    "import numpy as np\n",
    "import matplotlib.pyplot as plt\n"
   ]
  },
  {
   "cell_type": "code",
   "execution_count": 27,
   "metadata": {},
   "outputs": [],
   "source": [
    "a=-10\n",
    "b=10\n",
    "dx=0.05\n",
    "nx=int((b-a)/dx)\n",
    "mu=0.4\n",
    "dt=mu*dx**2\n",
    "T=1\n",
    "t0=0\n",
    "nt=int((T-t0)/dt)\n",
    "x=np.linspace(a,b,nx+1)"
   ]
  },
  {
   "cell_type": "code",
   "execution_count": 19,
   "metadata": {},
   "outputs": [],
   "source": [
    "def fun(x):\n",
    "    return np.where(np.abs(x)<1,1-x**2,0)"
   ]
  },
  {
   "cell_type": "code",
   "execution_count": 25,
   "metadata": {},
   "outputs": [],
   "source": [
    "U=np.zeros(nx+1)\n",
    "un= fun(x)"
   ]
  },
  {
   "cell_type": "code",
   "execution_count": 40,
   "metadata": {},
   "outputs": [],
   "source": [
    "for n in range(0,nt):\n",
    "    for j in range(1,nx):\n",
    "        U[j]=0.2*un[j]+mu*(un[j-1]-2*un[j]+un[+1])\n",
    "           \n",
    "     \n"
   ]
  },
  {
   "cell_type": "code",
   "execution_count": null,
   "metadata": {},
   "outputs": [],
   "source": []
  }
 ],
 "metadata": {
  "kernelspec": {
   "display_name": "Python 3",
   "language": "python",
   "name": "python3"
  },
  "language_info": {
   "codemirror_mode": {
    "name": "ipython",
    "version": 3
   },
   "file_extension": ".py",
   "mimetype": "text/x-python",
   "name": "python",
   "nbconvert_exporter": "python",
   "pygments_lexer": "ipython3",
   "version": "3.7.4"
  }
 },
 "nbformat": 4,
 "nbformat_minor": 2
}
